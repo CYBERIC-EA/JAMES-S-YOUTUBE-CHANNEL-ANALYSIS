{
  "nbformat": 4,
  "nbformat_minor": 0,
  "metadata": {
    "colab": {
      "provenance": [],
      "authorship_tag": "ABX9TyOPrvvx/CdOi8xEYiQzaAMF",
      "include_colab_link": true
    },
    "kernelspec": {
      "name": "python3",
      "display_name": "Python 3"
    },
    "language_info": {
      "name": "python"
    }
  },
  "cells": [
    {
      "cell_type": "markdown",
      "metadata": {
        "id": "view-in-github",
        "colab_type": "text"
      },
      "source": [
        "<a href=\"https://colab.research.google.com/github/CYBERIC-EA/JAMES-S-YOUTUBE-CHANNEL-ANALYSIS/blob/main/jay_scholz_channels_overview.ipynb\" target=\"_parent\"><img src=\"https://colab.research.google.com/assets/colab-badge.svg\" alt=\"Open In Colab\"/></a>"
      ]
    },
    {
      "cell_type": "markdown",
      "source": [
        "Introduction:\n",
        "\n",
        "In today's digital age, YouTube has emerged as a powerful platform for knowledge sharing, entertainment, and community building. Among the vast array of content creators, one channel that i really like is : Jay Scholz's YouTube channel. Through this analysis, we aim to provide Jay Scholz with valuable insights into the performance, engagement, and audience preferences of his channels."
      ],
      "metadata": {
        "id": "Y-TchTZKRe5j"
      }
    },
    {
      "cell_type": "code",
      "source": [
        "!pip install isodate\n",
        "# from wordcloud import WordCloud\n",
        "from time import strftime\n",
        "from IPython.display import JSON\n",
        "from nltk.tokenize import word_tokenize\n",
        "from nltk.corpus import stopwords\n",
        "import nltk\n",
        "from googleapiclient.discovery import build\n",
        "import pandas as pd\n",
        "import numpy as np\n",
        "from dateutil import parser\n",
        "from wordcloud import WordCloud\n",
        "# Data visualization libraries\n",
        "import matplotlib.pyplot as plt\n",
        "import matplotlib.ticker as ticker\n",
        "import isodate\n",
        "import seaborn as sns\n",
        "\n",
        "\n",
        "sns.set(style=\"darkgrid\", color_codes=True)\n",
        "\n",
        "# Google API\n",
        "\n",
        "\n",
        "# NLP libraries\n",
        "nltk.download('stopwords')\n",
        "nltk.download('punkt')\n"
      ],
      "metadata": {
        "colab": {
          "base_uri": "https://localhost:8080/"
        },
        "id": "MfJ3T2eJSCVX",
        "outputId": "2843f434-f094-44fd-b8dc-f896ee43d8a2"
      },
      "execution_count": null,
      "outputs": [
        {
          "output_type": "stream",
          "name": "stdout",
          "text": [
            "Looking in indexes: https://pypi.org/simple, https://us-python.pkg.dev/colab-wheels/public/simple/\n",
            "Collecting isodate\n",
            "  Downloading isodate-0.6.1-py2.py3-none-any.whl (41 kB)\n",
            "\u001b[2K     \u001b[90m━━━━━━━━━━━━━━━━━━━━━━━━━━━━━━━━━━━━━━━━\u001b[0m \u001b[32m41.7/41.7 kB\u001b[0m \u001b[31m2.4 MB/s\u001b[0m eta \u001b[36m0:00:00\u001b[0m\n",
            "\u001b[?25hRequirement already satisfied: six in /usr/local/lib/python3.10/dist-packages (from isodate) (1.16.0)\n",
            "Installing collected packages: isodate\n",
            "Successfully installed isodate-0.6.1\n"
          ]
        },
        {
          "output_type": "stream",
          "name": "stderr",
          "text": [
            "[nltk_data] Downloading package stopwords to /root/nltk_data...\n",
            "[nltk_data]   Unzipping corpora/stopwords.zip.\n",
            "[nltk_data] Downloading package punkt to /root/nltk_data...\n",
            "[nltk_data]   Unzipping tokenizers/punkt.zip.\n"
          ]
        },
        {
          "output_type": "execute_result",
          "data": {
            "text/plain": [
              "True"
            ]
          },
          "metadata": {},
          "execution_count": 1
        }
      ]
    },
    {
      "cell_type": "markdown",
      "source": [
        "retrieve api key"
      ],
      "metadata": {
        "id": "QytrWAfeRm12"
      }
    },
    {
      "cell_type": "code",
      "source": [
        "api_key = #your api key\n",
        "api_service_name = \"youtube\"\n",
        "api_version = \"v3\"\n",
        "\n",
        "channel_ids = [\n",
        "               #jay skullz\n",
        "               \"UCYCO3Kifwg56zhus3XXiAVg\",\n",
        "               #james scholz\n",
        "               \"UCMwo6hT5hI3R56rO2HYP-wQ\",\n",
        "               #j.v. scholz\n",
        "               \"UCcaTUtGzOiS4cqrgtcsHYWg\"\n",
        "               # you can add more channed ids here\n",
        "               ]\n",
        "               \n",
        "# create an api client\n",
        "youtube = build(api_service_name, api_version, developerKey=api_key)\n"
      ],
      "metadata": {
        "id": "BsyCLlerRnPq"
      },
      "execution_count": null,
      "outputs": []
    },
    {
      "cell_type": "markdown",
      "source": [],
      "metadata": {
        "id": "qJhuumqkVDi7"
      }
    },
    {
      "cell_type": "code",
      "source": [
        "def get_channel_stats(youtube, channel_ids):\n",
        "    request = youtube.channels().list(part=\"snippet,contentDetails,statistics\",\n",
        "                                      id=\",\".join(channel_ids))\n",
        "\n",
        "    \n",
        "    response = request.execute()\n",
        "\n",
        "\n",
        "    all_data = []\n",
        "    for item in response['items']:\n",
        "        data = {'channelName': item['snippet']['title'], 'subscribers': item['statistics']['subscriberCount'], 'views': item['statistics']\n",
        "                ['viewCount'], 'totalVideos': item['statistics']['videoCount'], 'playlistId': item['contentDetails']['relatedPlaylists']['uploads'], }\n",
        "        all_data.append(data)\n",
        "    return(pd.DataFrame(all_data))\n",
        "\n"
      ],
      "metadata": {
        "id": "_ZV4luHYVD8I"
      },
      "execution_count": null,
      "outputs": []
    },
    {
      "cell_type": "markdown",
      "source": [],
      "metadata": {
        "id": "A_2A7G4QG-8u"
      }
    },
    {
      "cell_type": "code",
      "source": [
        "channel_stats = get_channel_stats(youtube, channel_ids)\n",
        "print(channel_stats)"
      ],
      "metadata": {
        "colab": {
          "base_uri": "https://localhost:8080/"
        },
        "id": "LOewUMWoG_g-",
        "outputId": "df777a07-3c77-4ffd-a109-de0f94625adc"
      },
      "execution_count": null,
      "outputs": [
        {
          "output_type": "stream",
          "name": "stdout",
          "text": [
            "    channelName subscribers     views totalVideos                playlistId\n",
            "0      jvscholz      175000   9150926          26  UUcaTUtGzOiS4cqrgtcsHYWg\n",
            "1    jay skullz      213000  10384209          85  UUYCO3Kifwg56zhus3XXiAVg\n",
            "2  James Scholz      738000  44027632         406  UUMwo6hT5hI3R56rO2HYP-wQ\n"
          ]
        }
      ]
    },
    {
      "cell_type": "markdown",
      "source": [
        "AFTER GETTING THE STATS FOR THE CHANNELS, WE WANT THE STATS FOR EACH PLAYLIST IN THE CHANNEL\n"
      ],
      "metadata": {
        "id": "ExYkNemac1cl"
      }
    },
    {
      "cell_type": "code",
      "source": [
        "playlist_Id = \"UUMwo6hT5hI3R56rO2HYP-wQ\"\n"
      ],
      "metadata": {
        "id": "nOZqVQS8d-bp"
      },
      "execution_count": null,
      "outputs": []
    },
    {
      "cell_type": "code",
      "source": [
        "def get_video_ids(youtube, playlist_Id):\n",
        "    video_ids = []\n",
        "    request = youtube.playlistItems().list(part=\"snippet,ContentDetails\",\n",
        "                                           playlistId=\"UU2jxJHf569ZcA6LHajBZ7rg\", maxResults=50)\n",
        "    # by default you can only retrieve 5 video ids but i can change it by doing:\n",
        "    # first increase the total number of results(maxResults) from 5 videos to 50\n",
        "    response = request.execute()\n",
        "\n",
        "    for item in response['items']:\n",
        "        video_ids.append(item['contentDetails']['videoId'])\n",
        "    # set up a way to go to the next page to continue retrieving videos\n",
        "    next_page_token = response.get('nextPageToken')\n",
        "    while next_page_token is not None:\n",
        "        request = youtube.playlistItems().list(\n",
        "            part=\"ContentDetails\",\n",
        "            playlistId=playlist_Id,\n",
        "            # by default you can only retrieve 5 video ids but i can change it by doing:\n",
        "            # first increase the total number of results from 5 videos to 50\n",
        "            maxResults=50,\n",
        "            pageToken=next_page_token\n",
        "        )\n",
        "        response = request.execute()\n",
        "\n",
        "        for item in response['items']:\n",
        "            video_ids.append(item['contentDetails']['videoId'])\n",
        "        next_page_token = response.get('nextPageToken')\n",
        "\n",
        "    return video_ids\n"
      ],
      "metadata": {
        "id": "Amw9-f1YdxN7"
      },
      "execution_count": null,
      "outputs": []
    },
    {
      "cell_type": "code",
      "source": [
        "video_ids = get_video_ids(youtube, playlist_Id)"
      ],
      "metadata": {
        "id": "1-z7yL8be_YD"
      },
      "execution_count": null,
      "outputs": []
    },
    {
      "cell_type": "code",
      "source": [
        "def get_video_details(youtube, video_ids):\n",
        "    \n",
        "    all_video_info = []\n",
        "\n",
        "    for i in range(0, len(video_ids), 50):\n",
        "        request = youtube.videos().list(\n",
        "            part=\"snippet,contentDetails,statistics\",\n",
        "            id=','.join(video_ids[i:i+50])\n",
        "        )\n",
        "        response = request.execute()\n",
        "\n",
        "        for video in response['items']:\n",
        "            stats_to_keep = {'snippet': ['channelTitle', 'title', 'description', 'tags', 'publishedAt'],\n",
        "                             'statistics': ['viewCount', 'likeCount', 'favouriteCount', 'commentCount'],\n",
        "                             'contentDetails': ['duration', 'definition', 'caption']\n",
        "                             }\n",
        "            video_info = {}\n",
        "            video_info['video_id'] = video['id']\n",
        "\n",
        "            for k in stats_to_keep.keys():\n",
        "                for v in stats_to_keep[k]:\n",
        "                    try:\n",
        "                        video_info[v] = video[k][v]\n",
        "                    except:\n",
        "                        video_info[v] = None\n",
        "\n",
        "            all_video_info.append(video_info)\n",
        "\n",
        "    return pd.DataFrame(all_video_info)\n",
        "\n"
      ],
      "metadata": {
        "id": "D_81-8NefENM"
      },
      "execution_count": null,
      "outputs": []
    },
    {
      "cell_type": "code",
      "source": [
        "video_df = get_video_details(youtube, video_ids)"
      ],
      "metadata": {
        "id": "GWK5FAEffIDX"
      },
      "execution_count": null,
      "outputs": []
    },
    {
      "cell_type": "markdown",
      "source": [
        "AFTER RETRIEVING ALL THE RESOURCES WE NEED, WE NEED TO NORMALIZE THE DATA WE'VE GOTTEN IN ORDER TO UTILIZE THEM FOR THE ANALYSIS OF OUR CHOICE\n"
      ],
      "metadata": {
        "id": "omG0gHLXZ9yK"
      }
    },
    {
      "cell_type": "code",
      "source": [
        "cols = ['viewCount', 'likeCount', 'favouriteCount', 'commentCount']\n",
        "video_df[cols] = video_df[cols].apply(pd.to_numeric, errors='coerce', axis=1)\n",
        "\n",
        "\n",
        "# Create publish day (in the week) column\n",
        "video_df['publishedAt'] = video_df['publishedAt'].apply(\n",
        "    lambda x: parser.parse(x))\n",
        "video_df['publishDayName'] = video_df['publishedAt'].apply(\n",
        "    lambda x: x.strftime(\"%A\"))\n",
        "\n",
        "# convert duration to seconds\n",
        "video_df['durationSecs'] = video_df['duration'].apply(lambda x: isodate.parse_duration(x))\n",
        "video_df['durationSecs'] = video_df['durationSecs'].astype('timedelta64[s]')\n",
        "\n",
        "# Add number of tags\n",
        "video_df['tagsCount'] = video_df['tags'].apply(\n",
        "    lambda x: 0 if x is None else len(x))\n",
        "\n",
        "# Convert count columns to numeric columns\n",
        "numeric_cols = ['subscribers', 'views', 'totalVideos']\n",
        "channel_data = get_channel_stats(youtube, channel_ids)\n",
        "\n",
        "channel_data[numeric_cols] = channel_data[numeric_cols].apply(\n",
        "    pd.to_numeric, errors='coerce')\n",
        "\n",
        "\n",
        "\n"
      ],
      "metadata": {
        "id": "-VchX5RXfL1T"
      },
      "execution_count": null,
      "outputs": []
    },
    {
      "cell_type": "markdown",
      "source": [
        "# 1. SUBSCRIBERS PER CHANNEL\n",
        "We can compare the suscribers of different channels by updating the channel id list.\n",
        "\n",
        "Let's take a look at the number of subscribers per channel to have a view of how popular the channels are when compared with one another.\n"
      ],
      "metadata": {
        "id": "BGmu9C_EaHry"
      }
    },
    {
      "cell_type": "code",
      "source": [
        "sns.set(rc={'figure.figsize': (10, 8)})\n",
        "ax = sns.barplot(x='channelName', y='subscribers',\n",
        "                 data=channel_data.sort_values('subscribers', ascending=False))\n",
        "ax.yaxis.set_major_formatter(ticker.FuncFormatter(\n",
        "    lambda x, pos: '{:,.0f}'.format(x/1000) + 'K'))\n",
        "plot = ax.set_xticklabels(ax.get_xticklabels(), rotation=90)"
      ],
      "metadata": {
        "colab": {
          "base_uri": "https://localhost:8080/",
          "height": 790
        },
        "id": "RhnsRRHBfQH9",
        "outputId": "4f178f69-d83f-40b2-b614-4221ce351595"
      },
      "execution_count": null,
      "outputs": [
        {
          "output_type": "display_data",
          "data": {
            "text/plain": [
              "<Figure size 1000x800 with 1 Axes>"
            ],
            "image/png": "[encoded data removed]"
          },
          "metadata": {}
        }
      ]
    },
    {
      "cell_type": "markdown",
      "source": [
        "# 2. VIDEOS PER CHANNEL\n",
        "We can compare the total number of uploaded videos of different channels by updating the channel id list.\n",
        "\n",
        "Let's take a look at the number of subscribers per channel to have a view of how popular the channels are when compared with one another.\n"
      ],
      "metadata": {
        "id": "2bcL-QVfaj4f"
      }
    },
    {
      "cell_type": "code",
      "source": [
        "sns.set(rc={'figure.figsize': (10, 8)})\n",
        "ax = sns.barplot(x='channelName', y='totalVideos',\n",
        "                 data=channel_data.sort_values('totalVideos', ascending=False))\n",
        "ax.yaxis.set_major_formatter(ticker.FuncFormatter(\n",
        "    lambda x, pos: '{:,.0f}'.format(x)))\n",
        "plot = ax.set_xticklabels(ax.get_xticklabels(), rotation=90)"
      ],
      "metadata": {
        "colab": {
          "base_uri": "https://localhost:8080/",
          "height": 790
        },
        "id": "_nKM8yfRawUB",
        "outputId": "ff0c4b28-5b4d-4c1d-9a2a-997dfb5912ee"
      },
      "execution_count": null,
      "outputs": [
        {
          "output_type": "display_data",
          "data": {
            "text/plain": [
              "<Figure size 1000x800 with 1 Axes>"
            ],
            "image/png": "[encoded data removed]"
          },
          "metadata": {}
        }
      ]
    },
    {
      "cell_type": "markdown",
      "source": [
        "Based on the the two visualizations above you can deduce that there is a correlation between the amount of videos uploaded and the number of suscribers the channel has."
      ],
      "metadata": {
        "id": "fRz6099Sak8y"
      }
    }
  ]
}